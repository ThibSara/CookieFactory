{
 "cells": [
  {
   "cell_type": "markdown",
   "metadata": {},
   "source": [
    "## Cookie Factory Optimization Problem\n",
    "Alex Szpakiewicz, Sara Thibierge, Léonard Roussard"
   ]
  },
  {
   "cell_type": "code",
   "execution_count": 2,
   "metadata": {
    "ExecuteTime": {
     "end_time": "2023-12-26T19:36:58.599442Z",
     "start_time": "2023-12-26T19:36:58.420817Z"
    }
   },
   "outputs": [],
   "source": [
    "# Library imports\n",
    "import pandas as pd"
   ]
  },
  {
   "cell_type": "markdown",
   "metadata": {},
   "source": [
    "### Data Loading"
   ]
  },
  {
   "cell_type": "code",
   "execution_count": 29,
   "metadata": {
    "ExecuteTime": {
     "end_time": "2023-12-26T20:40:28.012862Z",
     "start_time": "2023-12-26T20:40:28.005647Z"
    }
   },
   "outputs": [],
   "source": [
    "# Load the defects data from the provided CSV file\n",
    "defects_file_path = 'defects.csv'\n",
    "defects_data = pd.read_csv(defects_file_path)"
   ]
  },
  {
   "cell_type": "code",
   "outputs": [],
   "source": [
    "biscuits = {\n",
    "    'Biscuit_0': {'length': 4, 'value': 6, 'defect_thresholds': {'a': 4, 'b': 2, 'c': 3}},\n",
    "    'Biscuit_1': {'length': 8, 'value': 12, 'defect_thresholds': {'a': 5, 'b': 4, 'c': 4}},\n",
    "    'Biscuit_2': {'length': 2, 'value': 1, 'defect_thresholds': {'a': 1, 'b': 2, 'c': 1}},\n",
    "    'Biscuit_3': {'length': 5, 'value': 8, 'defect_thresholds': {'a': 2, 'b': 3, 'c': 2}}\n",
    "}\n",
    "\n",
    "dough_length = 500"
   ],
   "metadata": {
    "collapsed": false,
    "ExecuteTime": {
     "end_time": "2023-12-26T20:26:33.929358Z",
     "start_time": "2023-12-26T20:26:33.922945Z"
    }
   },
   "execution_count": 24
  },
  {
   "cell_type": "markdown",
   "source": [
    "## Genetic Algorithm"
   ],
   "metadata": {
    "collapsed": false
   }
  },
  {
   "cell_type": "code",
   "outputs": [
    {
     "name": "stderr",
     "output_type": "stream",
     "text": [
      "/opt/homebrew/lib/python3.11/site-packages/deap/creator.py:185: RuntimeWarning: A class named 'FitnessMax' has already been created and it will be overwritten. Consider deleting previous creation of that class or rename it.\n",
      "  warnings.warn(\"A class named '{0}' has already been created and it \"\n",
      "/opt/homebrew/lib/python3.11/site-packages/deap/creator.py:185: RuntimeWarning: A class named 'Individual' has already been created and it will be overwritten. Consider deleting previous creation of that class or rename it.\n",
      "  warnings.warn(\"A class named '{0}' has already been created and it \"\n"
     ]
    },
    {
     "name": "stdout",
     "output_type": "stream",
     "text": [
      "Total value of biscuits placed: 715\n",
      "Biscuit placement: [('Biscuit_1', 1, 12), ('Biscuit_1', 9, 12), ('Biscuit_3', 17, 8), ('Biscuit_0', 23, 6), ('Biscuit_1', 27, 12), ('Biscuit_0', 36, 6), ('Biscuit_1', 40, 12), ('Biscuit_2', 48, 1), ('Biscuit_0', 50, 6), ('Biscuit_0', 54, 6), ('Biscuit_0', 58, 6), ('Biscuit_3', 62, 8), ('Biscuit_1', 67, 12), ('Biscuit_0', 75, 6), ('Biscuit_3', 79, 8), ('Biscuit_3', 84, 8), ('Biscuit_1', 89, 12), ('Biscuit_1', 98, 12), ('Biscuit_3', 108, 8), ('Biscuit_0', 114, 6), ('Biscuit_0', 119, 6), ('Biscuit_1', 124, 12), ('Biscuit_1', 132, 12), ('Biscuit_0', 140, 6), ('Biscuit_0', 144, 6), ('Biscuit_1', 148, 12), ('Biscuit_0', 158, 6), ('Biscuit_0', 162, 6), ('Biscuit_3', 167, 8), ('Biscuit_0', 172, 6), ('Biscuit_1', 176, 12), ('Biscuit_0', 186, 6), ('Biscuit_2', 191, 1), ('Biscuit_2', 193, 1), ('Biscuit_1', 195, 12), ('Biscuit_0', 203, 6), ('Biscuit_0', 207, 6), ('Biscuit_3', 211, 8), ('Biscuit_0', 216, 6), ('Biscuit_0', 220, 6), ('Biscuit_0', 224, 6), ('Biscuit_3', 228, 8), ('Biscuit_0', 233, 6), ('Biscuit_1', 237, 12), ('Biscuit_1', 245, 12), ('Biscuit_1', 253, 12), ('Biscuit_3', 261, 8), ('Biscuit_1', 266, 12), ('Biscuit_0', 274, 6), ('Biscuit_0', 278, 6), ('Biscuit_3', 282, 8), ('Biscuit_0', 287, 6), ('Biscuit_1', 294, 12), ('Biscuit_3', 302, 8), ('Biscuit_3', 307, 8), ('Biscuit_1', 312, 12), ('Biscuit_0', 320, 6), ('Biscuit_3', 324, 8), ('Biscuit_1', 329, 12), ('Biscuit_1', 337, 12), ('Biscuit_1', 345, 12), ('Biscuit_1', 355, 12), ('Biscuit_0', 363, 6), ('Biscuit_0', 367, 6), ('Biscuit_0', 371, 6), ('Biscuit_3', 377, 8), ('Biscuit_0', 382, 6), ('Biscuit_3', 386, 8), ('Biscuit_3', 391, 8), ('Biscuit_1', 396, 12), ('Biscuit_0', 404, 6), ('Biscuit_1', 408, 12), ('Biscuit_3', 416, 8), ('Biscuit_0', 421, 6), ('Biscuit_1', 425, 12), ('Biscuit_0', 433, 6), ('Biscuit_1', 439, 12), ('Biscuit_3', 447, 8), ('Biscuit_1', 452, 12), ('Biscuit_3', 460, 8), ('Biscuit_3', 465, 8), ('Biscuit_1', 470, 12), ('Biscuit_0', 479, 6), ('Biscuit_1', 484, 12), ('Biscuit_0', 492, 6), ('Biscuit_0', 496, 6)]\n"
     ]
    }
   ],
   "source": [
    "import random\n",
    "from deap import creator, base, tools, algorithms\n",
    "\n",
    "# Define the individual and fitness function\n",
    "creator.create(\"FitnessMax\", base.Fitness, weights=(1.0,))\n",
    "creator.create(\"Individual\", list, fitness=creator.FitnessMax)\n",
    "\n",
    "# Initialize necessary components for the genetic algorithm\n",
    "toolbox = base.Toolbox()\n",
    "toolbox.register(\"attr_int\", random.randint, 0, len(biscuits) - 1)\n",
    "toolbox.register(\"individual\", tools.initRepeat, creator.Individual, toolbox.attr_int, dough_length)\n",
    "toolbox.register(\"population\", tools.initRepeat, list, toolbox.individual)\n",
    "\n",
    "# Check if a biscuit can be placed at a given position considering defect thresholds\n",
    "def can_place_biscuit(biscuit, position, defects):\n",
    "    if position + biscuit['length'] > dough_length:\n",
    "        return False \n",
    "\n",
    "    # Filter defects that fall within the biscuit's range\n",
    "    relevant_defects = defects[(defects['x'] >= position) & (defects['x'] < position + biscuit['length'])]\n",
    "    \n",
    "    # Check if the biscuit's defect thresholds are exceeded\n",
    "    for defect_class in biscuit['defect_thresholds']:\n",
    "        max_allowed = biscuit['defect_thresholds'][defect_class]\n",
    "        defects_count = relevant_defects[relevant_defects['class'] == defect_class].shape[0]\n",
    "        if defects_count > max_allowed:\n",
    "            return False\n",
    "    \n",
    "    return True\n",
    "\n",
    "# Fitness function to evaluate each individual\n",
    "def evaluate(individual):\n",
    "    total_value = 0\n",
    "    position = 0\n",
    "    while position < dough_length:\n",
    "        biscuit_idx = individual[position]\n",
    "        biscuit_name = f'Biscuit_{biscuit_idx}'\n",
    "        biscuit = biscuits[biscuit_name]\n",
    "        if can_place_biscuit(biscuit, position, defects_data):\n",
    "            total_value += biscuit['value']\n",
    "            position += biscuit['length']\n",
    "        else:\n",
    "            position += 1\n",
    "    return total_value,\n",
    "\n",
    "# Genetic operators\n",
    "toolbox.register(\"mate\", tools.cxTwoPoint)\n",
    "toolbox.register(\"mutate\", tools.mutUniformInt, low=0, up=len(biscuits) - 1, indpb=0.1)\n",
    "toolbox.register(\"select\", tools.selTournament, tournsize=3)\n",
    "toolbox.register(\"evaluate\", evaluate)\n",
    "\n",
    "# Create initial population\n",
    "population = toolbox.population(n=100)\n",
    "\n",
    "# Run the genetic algorithm\n",
    "ngen = 50  # Number of generations\n",
    "result = algorithms.eaSimple(population, toolbox, cxpb=0.5, mutpb=0.2, ngen=ngen, verbose=False)\n",
    "\n",
    "# Best solution\n",
    "best_individual = tools.selBest(population, 1)[0]\n",
    "best_fitness = evaluate(best_individual)[0]\n",
    "\n",
    "# Get best individual's biscuit placement\n",
    "biscuit_placement = []\n",
    "position = 0\n",
    "while position < dough_length:\n",
    "    biscuit_idx = best_individual[position]\n",
    "    biscuit_name = f'Biscuit_{biscuit_idx}'\n",
    "    biscuit = biscuits[biscuit_name]\n",
    "    if can_place_biscuit(biscuit, position, defects_data):\n",
    "        biscuit_placement.append((biscuit_name, position, biscuit['value']))\n",
    "        position += biscuit['length']\n",
    "    else:\n",
    "        position += 1\n",
    "        \n",
    "print(f\"Total value of biscuits placed: {best_fitness}\")\n",
    "print(f\"Biscuit placement: {biscuit_placement}\")"
   ],
   "metadata": {
    "collapsed": false,
    "ExecuteTime": {
     "end_time": "2023-12-26T20:28:17.135436Z",
     "start_time": "2023-12-26T20:26:35.535866Z"
    }
   },
   "execution_count": 25
  },
  {
   "cell_type": "code",
   "outputs": [
    {
     "data": {
      "text/plain": "90"
     },
     "execution_count": 19,
     "metadata": {},
     "output_type": "execute_result"
    }
   ],
   "source": [
    "len(biscuit_placement)"
   ],
   "metadata": {
    "collapsed": false,
    "ExecuteTime": {
     "end_time": "2023-12-26T20:20:19.906609Z",
     "start_time": "2023-12-26T20:20:19.900836Z"
    }
   },
   "execution_count": 19
  },
  {
   "cell_type": "code",
   "outputs": [
    {
     "name": "stdout",
     "output_type": "stream",
     "text": [
      "Total value of biscuits placed: 760.0\n"
     ]
    },
    {
     "data": {
      "text/plain": "[('Biscuit_1', 0, 12),\n ('Biscuit_1', 8, 12),\n ('Biscuit_0', 16, 6),\n ('Biscuit_1', 20, 12),\n ('Biscuit_1', 28, 12),\n ('Biscuit_0', 36, 6),\n ('Biscuit_0', 41, 6),\n ('Biscuit_3', 45, 8),\n ('Biscuit_0', 50, 6),\n ('Biscuit_0', 54, 6),\n ('Biscuit_3', 58, 8),\n ('Biscuit_3', 63, 8),\n ('Biscuit_3', 68, 8),\n ('Biscuit_1', 73, 12),\n ('Biscuit_1', 81, 12),\n ('Biscuit_1', 89, 12),\n ('Biscuit_0', 99, 6),\n ('Biscuit_3', 103, 8),\n ('Biscuit_3', 108, 8),\n ('Biscuit_0', 114, 6),\n ('Biscuit_0', 118, 6),\n ('Biscuit_0', 122, 6),\n ('Biscuit_3', 126, 8),\n ('Biscuit_3', 131, 8),\n ('Biscuit_0', 136, 6),\n ('Biscuit_0', 140, 6),\n ('Biscuit_3', 144, 8),\n ('Biscuit_1', 149, 12),\n ('Biscuit_1', 158, 12),\n ('Biscuit_3', 167, 8),\n ('Biscuit_0', 172, 6),\n ('Biscuit_1', 176, 12),\n ('Biscuit_0', 186, 6),\n ('Biscuit_3', 190, 8),\n ('Biscuit_3', 195, 8),\n ('Biscuit_3', 200, 8),\n ('Biscuit_3', 205, 8),\n ('Biscuit_3', 210, 8),\n ('Biscuit_0', 215, 6),\n ('Biscuit_3', 219, 8),\n ('Biscuit_3', 224, 8),\n ('Biscuit_1', 229, 12),\n ('Biscuit_3', 237, 8),\n ('Biscuit_1', 242, 12),\n ('Biscuit_3', 250, 8),\n ('Biscuit_3', 255, 8),\n ('Biscuit_3', 260, 8),\n ('Biscuit_3', 265, 8),\n ('Biscuit_3', 270, 8),\n ('Biscuit_0', 275, 6),\n ('Biscuit_0', 279, 6),\n ('Biscuit_3', 283, 8),\n ('Biscuit_3', 288, 8),\n ('Biscuit_1', 293, 12),\n ('Biscuit_1', 301, 12),\n ('Biscuit_3', 309, 8),\n ('Biscuit_0', 314, 6),\n ('Biscuit_3', 318, 8),\n ('Biscuit_3', 323, 8),\n ('Biscuit_1', 328, 12),\n ('Biscuit_3', 336, 8),\n ('Biscuit_1', 341, 12),\n ('Biscuit_3', 349, 8),\n ('Biscuit_1', 354, 12),\n ('Biscuit_0', 362, 6),\n ('Biscuit_0', 366, 6),\n ('Biscuit_0', 370, 6),\n ('Biscuit_0', 374, 6),\n ('Biscuit_3', 378, 8),\n ('Biscuit_3', 383, 8),\n ('Biscuit_0', 388, 6),\n ('Biscuit_3', 392, 8),\n ('Biscuit_3', 397, 8),\n ('Biscuit_3', 402, 8),\n ('Biscuit_3', 407, 8),\n ('Biscuit_3', 412, 8),\n ('Biscuit_3', 417, 8),\n ('Biscuit_3', 422, 8),\n ('Biscuit_0', 427, 6),\n ('Biscuit_0', 431, 6),\n ('Biscuit_0', 435, 6),\n ('Biscuit_3', 439, 8),\n ('Biscuit_1', 444, 12),\n ('Biscuit_3', 452, 8),\n ('Biscuit_3', 457, 8),\n ('Biscuit_3', 462, 8),\n ('Biscuit_3', 467, 8),\n ('Biscuit_1', 472, 12),\n ('Biscuit_0', 480, 6),\n ('Biscuit_1', 484, 12),\n ('Biscuit_1', 492, 12)]"
     },
     "execution_count": 27,
     "metadata": {},
     "output_type": "execute_result"
    }
   ],
   "source": [
    "import pandas as pd\n",
    "\n",
    "# Dough length\n",
    "dough_length = 500\n",
    "\n",
    "\n",
    "# Function to check if a biscuit can be placed at a given position considering defect thresholds\n",
    "def can_place_biscuit(biscuit, position, defects):\n",
    "    if position + biscuit['length'] > dough_length:\n",
    "        return False  # Biscuit exceeds dough length\n",
    "\n",
    "    # Filter defects that fall within the biscuit's range\n",
    "    relevant_defects = defects[(defects['x'] >= position) & (defects['x'] < position + biscuit['length'])]\n",
    "\n",
    "    # Check if the biscuit's defect thresholds are exceeded\n",
    "    for defect_class in biscuit['defect_thresholds']:\n",
    "        max_allowed = biscuit['defect_thresholds'][defect_class]\n",
    "        defects_count = relevant_defects[relevant_defects['class'] == defect_class].shape[0]\n",
    "        if defects_count > max_allowed:\n",
    "            return False\n",
    "\n",
    "    return True\n",
    "\n",
    "\n",
    "import numpy as np\n",
    "\n",
    "\n",
    "\n",
    "def optimize_biscuit_placement(biscuits, dough_length, defects):\n",
    "    # Reusing the optimize_biscuit_placement logic with additional tracking\n",
    "    max_values = np.zeros(dough_length + 1)\n",
    "    placement_tracker = [None] * (dough_length + 1)  # Track biscuit placements\n",
    "\n",
    "    for position in range(dough_length):\n",
    "        max_values[position + 1] = max(max_values[position + 1], max_values[position])\n",
    "\n",
    "        for biscuit_name, biscuit in biscuits.items():\n",
    "            if can_place_biscuit(biscuit, position, defects):\n",
    "                end_position = position + biscuit['length']\n",
    "                if end_position <= dough_length:\n",
    "                    new_value = max_values[position] + biscuit['value']\n",
    "                    if new_value > max_values[end_position]:\n",
    "                        max_values[end_position] = new_value\n",
    "                        placement_tracker[end_position] = (biscuit_name, position, biscuit['value'])\n",
    "\n",
    "    # Reconstruct the placement of biscuits\n",
    "    biscuit_placement = []\n",
    "    current_position = dough_length\n",
    "    while current_position > 0:\n",
    "        placement = placement_tracker[current_position]\n",
    "        if placement:\n",
    "            biscuit_name, position, value = placement\n",
    "            biscuit_placement.append((biscuit_name, position, value))\n",
    "            current_position = position\n",
    "        else:\n",
    "            current_position -= 1\n",
    "\n",
    "    return list(reversed(biscuit_placement)), max_values[-1]\n",
    "\n",
    "\n",
    "# Optimizing the biscuit placement\n",
    "biscuit_placement_details, total_value = optimize_biscuit_placement(biscuits, dough_length, defects_data)\n",
    "print(f\"Total value of biscuits placed: {total_value}\")\n",
    "\n",
    "# Getting detailed placement of biscuits\n",
    "biscuit_placement_details"
   ],
   "metadata": {
    "collapsed": false,
    "ExecuteTime": {
     "end_time": "2023-12-26T20:29:45.153694Z",
     "start_time": "2023-12-26T20:29:44.580349Z"
    }
   },
   "execution_count": 27
  },
  {
   "cell_type": "code",
   "outputs": [
    {
     "data": {
      "text/plain": "([1,\n  1,\n  0,\n  0,\n  3,\n  2,\n  2,\n  0,\n  2,\n  0,\n  1,\n  2,\n  0,\n  3,\n  1,\n  1,\n  3,\n  2,\n  3,\n  0,\n  2,\n  0,\n  0,\n  2,\n  0,\n  2,\n  2,\n  1,\n  2,\n  3,\n  3,\n  0,\n  1,\n  2,\n  0,\n  0,\n  1,\n  2,\n  1,\n  0,\n  1,\n  3,\n  3,\n  1,\n  1,\n  2,\n  3,\n  0,\n  1,\n  1,\n  2,\n  0,\n  2,\n  1,\n  1,\n  1,\n  3,\n  1,\n  0,\n  1,\n  0,\n  2,\n  1,\n  3,\n  0,\n  0,\n  2,\n  2,\n  0,\n  2,\n  1,\n  3,\n  0,\n  1,\n  1,\n  1,\n  2,\n  2,\n  1,\n  1,\n  0,\n  1,\n  3,\n  3,\n  3,\n  3,\n  2,\n  1,\n  0,\n  0,\n  0,\n  3,\n  1],\n 517)"
     },
     "execution_count": 28,
     "metadata": {},
     "output_type": "execute_result"
    }
   ],
   "source": [
    "# Generate an initial solution\n",
    "def generate_initial_solution():\n",
    "    solution = []\n",
    "    position = 0\n",
    "    while position < dough_length:\n",
    "        biscuit_idx = random.randint(0, len(biscuits) - 1)\n",
    "        biscuit_name = f'Biscuit_{biscuit_idx}'\n",
    "        biscuit = biscuits[biscuit_name]\n",
    "        if can_place_biscuit(biscuit, position, defects_data):\n",
    "            solution.append(biscuit_idx)\n",
    "            position += biscuit['length']\n",
    "        else:\n",
    "            position += 1\n",
    "    return solution\n",
    "\n",
    "# Evaluate a solution\n",
    "def evaluate(solution):\n",
    "    total_value = 0\n",
    "    position = 0\n",
    "    for biscuit_idx in solution:\n",
    "        biscuit_name = f'Biscuit_{biscuit_idx}'\n",
    "        biscuit = biscuits[biscuit_name]\n",
    "        if can_place_biscuit(biscuit, position, defects_data):\n",
    "            total_value += biscuit['value']\n",
    "            position += biscuit['length']\n",
    "        else:\n",
    "            position += 1\n",
    "    return total_value\n",
    "\n",
    "# Generate a neighboring solution\n",
    "def generate_neighbor(solution):\n",
    "    neighbor = solution[:]\n",
    "    change_idx = random.randint(0, len(neighbor) - 1)\n",
    "    neighbor[change_idx] = random.randint(0, len(biscuits) - 1)\n",
    "    return neighbor\n",
    "\n",
    "# Hill climbing algorithm\n",
    "def hill_climbing(initial_solution):\n",
    "    current_solution = initial_solution\n",
    "    current_value = evaluate(current_solution)\n",
    "    no_improvement_count = 0\n",
    "\n",
    "    while no_improvement_count < 100:  # Allow some iterations to find improvement\n",
    "        neighbor = generate_neighbor(current_solution)\n",
    "        neighbor_value = evaluate(neighbor)\n",
    "\n",
    "        if neighbor_value > current_value:\n",
    "            current_solution = neighbor\n",
    "            current_value = neighbor_value\n",
    "            no_improvement_count = 0\n",
    "        else:\n",
    "            no_improvement_count += 1\n",
    "\n",
    "    return current_solution, current_value\n",
    "\n",
    "# Test the local search algorithm\n",
    "initial_solution = generate_initial_solution()\n",
    "best_solution, best_value = hill_climbing(initial_solution)\n",
    "best_solution, best_value"
   ],
   "metadata": {
    "collapsed": false,
    "ExecuteTime": {
     "end_time": "2023-12-26T20:39:46.514505Z",
     "start_time": "2023-12-26T20:39:35.790999Z"
    }
   },
   "execution_count": 28
  },
  {
   "cell_type": "code",
   "outputs": [
    {
     "data": {
      "text/plain": "713"
     },
     "execution_count": 23,
     "metadata": {},
     "output_type": "execute_result"
    }
   ],
   "source": [],
   "metadata": {
    "collapsed": false,
    "ExecuteTime": {
     "end_time": "2023-12-26T20:23:41.606212Z",
     "start_time": "2023-12-26T20:23:41.599982Z"
    }
   },
   "execution_count": 23
  },
  {
   "cell_type": "code",
   "outputs": [],
   "source": [],
   "metadata": {
    "collapsed": false
   }
  }
 ],
 "metadata": {
  "kernelspec": {
   "display_name": "venv311",
   "language": "python",
   "name": "python3"
  },
  "language_info": {
   "codemirror_mode": {
    "name": "ipython",
    "version": 3
   },
   "file_extension": ".py",
   "mimetype": "text/x-python",
   "name": "python",
   "nbconvert_exporter": "python",
   "pygments_lexer": "ipython3",
   "version": "3.11.3"
  }
 },
 "nbformat": 4,
 "nbformat_minor": 2
}
