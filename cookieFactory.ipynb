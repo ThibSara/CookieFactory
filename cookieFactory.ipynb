{
 "cells": [
  {
   "cell_type": "markdown",
   "metadata": {},
   "source": [
    "## Cookie Factory Optimization Problem\n",
    "Alex Szpakiewicz, Sara Thibierge, Léonard Roussard"
   ]
  },
  {
   "cell_type": "code",
   "execution_count": 1,
   "metadata": {},
   "outputs": [],
   "source": [
    "# Library imports\n",
    "import pandas as pd"
   ]
  },
  {
   "cell_type": "markdown",
   "metadata": {},
   "source": [
    "### Data Loading"
   ]
  },
  {
   "cell_type": "code",
   "execution_count": 2,
   "metadata": {},
   "outputs": [],
   "source": [
    "def load_defects(file_path='defects.csv'):\n",
    "    \"\"\"\n",
    "    Load defect information.\n",
    "    Parameters:\n",
    "    - file_path: str, the path to defect.csv .\n",
    "    Returns:\n",
    "    - defects: DataFrame, a pandas DataFrame containing defect information.\n",
    "    \"\"\"\n",
    "    defects = pd.read_csv(file_path)\n",
    "    return defects"
   ]
  },
  {
   "cell_type": "code",
   "execution_count": 3,
   "metadata": {},
   "outputs": [
    {
     "data": {
      "text/html": [
       "<div>\n",
       "<style scoped>\n",
       "    .dataframe tbody tr th:only-of-type {\n",
       "        vertical-align: middle;\n",
       "    }\n",
       "\n",
       "    .dataframe tbody tr th {\n",
       "        vertical-align: top;\n",
       "    }\n",
       "\n",
       "    .dataframe thead th {\n",
       "        text-align: right;\n",
       "    }\n",
       "</style>\n",
       "<table border=\"1\" class=\"dataframe\">\n",
       "  <thead>\n",
       "    <tr style=\"text-align: right;\">\n",
       "      <th></th>\n",
       "      <th>x</th>\n",
       "      <th>class</th>\n",
       "    </tr>\n",
       "  </thead>\n",
       "  <tbody>\n",
       "    <tr>\n",
       "      <th>0</th>\n",
       "      <td>355.449335</td>\n",
       "      <td>c</td>\n",
       "    </tr>\n",
       "    <tr>\n",
       "      <th>1</th>\n",
       "      <td>92.496236</td>\n",
       "      <td>a</td>\n",
       "    </tr>\n",
       "    <tr>\n",
       "      <th>2</th>\n",
       "      <td>141.876795</td>\n",
       "      <td>c</td>\n",
       "    </tr>\n",
       "    <tr>\n",
       "      <th>3</th>\n",
       "      <td>431.833902</td>\n",
       "      <td>c</td>\n",
       "    </tr>\n",
       "    <tr>\n",
       "      <th>4</th>\n",
       "      <td>435.028461</td>\n",
       "      <td>c</td>\n",
       "    </tr>\n",
       "  </tbody>\n",
       "</table>\n",
       "</div>"
      ],
      "text/plain": [
       "            x class\n",
       "0  355.449335     c\n",
       "1   92.496236     a\n",
       "2  141.876795     c\n",
       "3  431.833902     c\n",
       "4  435.028461     c"
      ]
     },
     "execution_count": 3,
     "metadata": {},
     "output_type": "execute_result"
    }
   ],
   "source": [
    "defects_data = load_defects(\"defects.csv\")\n",
    "defects_data.head()"
   ]
  },
  {
   "cell_type": "code",
   "execution_count": null,
   "metadata": {},
   "outputs": [],
   "source": [
    "# Define the roll dought length\n",
    "roll_dought = 500"
   ]
  },
  {
   "cell_type": "markdown",
   "metadata": {},
   "source": [
    "### Define Biscuit Class"
   ]
  },
  {
   "cell_type": "code",
   "execution_count": 4,
   "metadata": {},
   "outputs": [],
   "source": [
    "class Biscuit:\n",
    "    def __init__(self, size, value, defect_thresholds):\n",
    "        \"\"\"\n",
    "        Initialize a Biscuit instance.\n",
    "\n",
    "        Parameters:\n",
    "        - size: int, the size of the biscuit.\n",
    "        - value: int, the value of the biscuit.\n",
    "        - defect_thresholds: dict, a dictionary specifying the maximum allowed defects for each class.\n",
    "        \"\"\"\n",
    "        self.size = size\n",
    "        self.value = value\n",
    "        self.defect_thresholds = defect_thresholds\n",
    "\n",
    "    def __str__(self):\n",
    "        \"\"\"\n",
    "        Return a string representation of the Biscuit instance.\n",
    "        \"\"\"\n",
    "        return f\"Biscuit(size={self.size}, value={self.value}, thresholds={self.defect_thresholds})\"\n"
   ]
  },
  {
   "cell_type": "markdown",
   "metadata": {},
   "source": [
    "The biscuit manufacturing factory aims to produce 4 types of biscuits, which are :\n",
    "\n",
    "- Biscuit 0 with a length of 4, a value 6, and maximum allowed defects as {′a′ : 4, ′b′ :\n",
    "2, ′c′ : 3}\n",
    "- Biscuit 1 with a length of 8, a value 12, and maximum allowed defects as {′a′ : 5, ′b′ :\n",
    "4, ′c′ : 4}\n",
    "- Biscuit 2 with a length of 2, a value 1, and maximum allowed defects as {′a′ : 1, ′b′ :\n",
    "2, ′c′ : 1}\n",
    "- Biscuit 3 with a length of 5, a value 8, and maximum allowed defects as {′a′ : 2, ′b′ :\n",
    "3, ′c′ : 2}"
   ]
  },
  {
   "cell_type": "code",
   "execution_count": 6,
   "metadata": {},
   "outputs": [],
   "source": [
    "biscuit_0 = Biscuit(size=4, value=6, defect_thresholds={'a': 4, 'b': 2, 'c': 3})\n",
    "biscuit_1 = Biscuit(size=8, value=12, defect_thresholds={'a': 5, 'b': 4, 'c': 4})\n",
    "biscuit_2 = Biscuit(size=2, value=1, defect_thresholds={'a': 1, 'b': 2, 'c': 1})\n",
    "biscuit_3 = Biscuit(size=5, value=8, defect_thresholds={'a': 2, 'b': 3, 'c': 2})"
   ]
  }
 ],
 "metadata": {
  "kernelspec": {
   "display_name": "venv311",
   "language": "python",
   "name": "python3"
  },
  "language_info": {
   "codemirror_mode": {
    "name": "ipython",
    "version": 3
   },
   "file_extension": ".py",
   "mimetype": "text/x-python",
   "name": "python",
   "nbconvert_exporter": "python",
   "pygments_lexer": "ipython3",
   "version": "3.11.3"
  }
 },
 "nbformat": 4,
 "nbformat_minor": 2
}
