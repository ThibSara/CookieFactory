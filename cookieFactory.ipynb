{
 "cells": [
  {
   "cell_type": "markdown",
   "metadata": {},
   "source": [
    "## Cookie Factory Optimization Problem\n",
    "Alex Szpakiewicz, Sara Thibierge, Léonard Roussard"
   ]
  },
  {
   "cell_type": "code",
   "execution_count": 41,
   "metadata": {
    "ExecuteTime": {
     "end_time": "2023-12-27T20:00:52.907044Z",
     "start_time": "2023-12-27T20:00:52.902721Z"
    }
   },
   "outputs": [],
   "source": [
    "# Library imports\n",
    "import pandas as pd\n",
    "import numpy as np"
   ]
  },
  {
   "cell_type": "markdown",
   "metadata": {},
   "source": [
    "### Data Loading"
   ]
  },
  {
   "cell_type": "code",
   "execution_count": 42,
   "metadata": {
    "ExecuteTime": {
     "end_time": "2023-12-27T20:00:52.920323Z",
     "start_time": "2023-12-27T20:00:52.906776Z"
    }
   },
   "outputs": [],
   "source": [
    "# Load the defects data from the provided CSV file\n",
    "defects_file_path = 'defects.csv'\n",
    "defects_data = pd.read_csv(defects_file_path)"
   ]
  },
  {
   "cell_type": "code",
   "outputs": [],
   "source": [
    "# Set the biscuit dict with the biscuit names as keys and the biscuit properties as values\n",
    "biscuits = {\n",
    "    'Biscuit_0': {'length': 4, 'value': 6, 'defect_thresholds': {'a': 4, 'b': 2, 'c': 3}},\n",
    "    'Biscuit_1': {'length': 8, 'value': 12, 'defect_thresholds': {'a': 5, 'b': 4, 'c': 4}},\n",
    "    'Biscuit_2': {'length': 2, 'value': 1, 'defect_thresholds': {'a': 1, 'b': 2, 'c': 1}},\n",
    "    'Biscuit_3': {'length': 5, 'value': 8, 'defect_thresholds': {'a': 2, 'b': 3, 'c': 2}}\n",
    "}\n",
    "\n",
    "# Set the dough length\n",
    "dough_length = 500"
   ],
   "metadata": {
    "collapsed": false,
    "ExecuteTime": {
     "end_time": "2023-12-27T20:00:52.920593Z",
     "start_time": "2023-12-27T20:00:52.912399Z"
    }
   },
   "execution_count": 43
  },
  {
   "cell_type": "markdown",
   "source": [
    "## Util functions"
   ],
   "metadata": {
    "collapsed": false
   }
  },
  {
   "cell_type": "code",
   "outputs": [],
   "source": [
    "def is_valid_solution(solution, biscuits, dough_length, defects):\n",
    "    \"\"\"\n",
    "    Check if a biscuit placement solution is valid\n",
    "    :param solution: \n",
    "    :param biscuits: \n",
    "    :param dough_length: \n",
    "    :param defects: \n",
    "    :return: True or False\n",
    "    \"\"\"\n",
    "    current_position = 0\n",
    "    for biscuit_name, start_position in solution:\n",
    "        # Check if the biscuit is placed at an integer position and in the correct order\n",
    "        if start_position < current_position or start_position >= dough_length:\n",
    "            return False\n",
    "\n",
    "        biscuit = biscuits[biscuit_name]\n",
    "        \n",
    "        # Check for overlap\n",
    "        if start_position + biscuit['length'] > dough_length:\n",
    "            return False\n",
    "\n",
    "        # Check for defects\n",
    "        relevant_defects = defects[(defects['x'] >= start_position) & \n",
    "                                   (defects['x'] < start_position + biscuit['length'])]\n",
    "        for defect_class in biscuit['defect_thresholds']:\n",
    "            max_allowed = biscuit['defect_thresholds'][defect_class]\n",
    "            defects_count = relevant_defects[relevant_defects['class'] == defect_class].shape[0]\n",
    "            if defects_count > max_allowed:\n",
    "                return False\n",
    "\n",
    "        current_position = start_position + biscuit['length']\n",
    "\n",
    "    # Check if the total length of biscuits does not exceed the dough length\n",
    "    if current_position > dough_length:\n",
    "        return False\n",
    "\n",
    "    return True"
   ],
   "metadata": {
    "collapsed": false,
    "ExecuteTime": {
     "end_time": "2023-12-27T20:00:52.920776Z",
     "start_time": "2023-12-27T20:00:52.917400Z"
    }
   },
   "execution_count": 44
  },
  {
   "cell_type": "code",
   "outputs": [],
   "source": [
    "def can_place_biscuit(biscuit, position, defects):\n",
    "    \"\"\" \n",
    "    Check if a biscuit can be placed at a given position considering defect thresholds\n",
    "    :param biscuit: \n",
    "    :param position: \n",
    "    :param defects: \n",
    "    :return: \n",
    "    \"\"\"\n",
    "    if position + biscuit['length'] > dough_length:\n",
    "        return False \n",
    "\n",
    "    # Filter defects that fall within the biscuit's range\n",
    "    relevant_defects = defects[(defects['x'] >= position) & (defects['x'] < position + biscuit['length'])]\n",
    "    \n",
    "    # Check if the biscuit's defect thresholds are exceeded\n",
    "    for defect_class in biscuit['defect_thresholds']:\n",
    "        max_allowed = biscuit['defect_thresholds'][defect_class]\n",
    "        defects_count = relevant_defects[relevant_defects['class'] == defect_class].shape[0]\n",
    "        if defects_count > max_allowed:\n",
    "            return False\n",
    "    \n",
    "    return True"
   ],
   "metadata": {
    "collapsed": false
   }
  },
  {
   "cell_type": "markdown",
   "source": [
    "## Genetic Algorithm"
   ],
   "metadata": {
    "collapsed": false
   }
  },
  {
   "cell_type": "code",
   "outputs": [
    {
     "name": "stderr",
     "output_type": "stream",
     "text": [
      "/opt/homebrew/lib/python3.11/site-packages/deap/creator.py:185: RuntimeWarning: A class named 'FitnessMax' has already been created and it will be overwritten. Consider deleting previous creation of that class or rename it.\n",
      "  warnings.warn(\"A class named '{0}' has already been created and it \"\n",
      "/opt/homebrew/lib/python3.11/site-packages/deap/creator.py:185: RuntimeWarning: A class named 'Individual' has already been created and it will be overwritten. Consider deleting previous creation of that class or rename it.\n",
      "  warnings.warn(\"A class named '{0}' has already been created and it \"\n"
     ]
    },
    {
     "name": "stdout",
     "output_type": "stream",
     "text": [
      "Total value of biscuits placed: 723\n",
      "Is the solution valid? True\n"
     ]
    },
    {
     "data": {
      "text/plain": "[('Biscuit_1', 0),\n ('Biscuit_0', 9),\n ('Biscuit_3', 13),\n ('Biscuit_1', 18),\n ('Biscuit_3', 26),\n ('Biscuit_3', 31),\n ('Biscuit_0', 36),\n ('Biscuit_0', 40),\n ('Biscuit_3', 45),\n ('Biscuit_1', 51),\n ('Biscuit_1', 59),\n ('Biscuit_1', 67),\n ('Biscuit_0', 75),\n ('Biscuit_3', 79),\n ('Biscuit_0', 84),\n ('Biscuit_3', 88),\n ('Biscuit_0', 93),\n ('Biscuit_1', 99),\n ('Biscuit_0', 107),\n ('Biscuit_0', 111),\n ('Biscuit_0', 119),\n ('Biscuit_1', 123),\n ('Biscuit_2', 131),\n ('Biscuit_3', 133),\n ('Biscuit_0', 139),\n ('Biscuit_3', 144),\n ('Biscuit_1', 149),\n ('Biscuit_1', 158),\n ('Biscuit_0', 167),\n ('Biscuit_0', 172),\n ('Biscuit_1', 176),\n ('Biscuit_0', 186),\n ('Biscuit_3', 190),\n ('Biscuit_0', 195),\n ('Biscuit_3', 199),\n ('Biscuit_0', 204),\n ('Biscuit_1', 208),\n ('Biscuit_3', 216),\n ('Biscuit_0', 221),\n ('Biscuit_0', 225),\n ('Biscuit_1', 229),\n ('Biscuit_3', 237),\n ('Biscuit_0', 242),\n ('Biscuit_0', 246),\n ('Biscuit_3', 250),\n ('Biscuit_0', 255),\n ('Biscuit_3', 259),\n ('Biscuit_3', 264),\n ('Biscuit_1', 270),\n ('Biscuit_1', 278),\n ('Biscuit_1', 286),\n ('Biscuit_3', 294),\n ('Biscuit_0', 299),\n ('Biscuit_0', 303),\n ('Biscuit_1', 307),\n ('Biscuit_0', 315),\n ('Biscuit_0', 319),\n ('Biscuit_3', 323),\n ('Biscuit_2', 328),\n ('Biscuit_1', 330),\n ('Biscuit_3', 338),\n ('Biscuit_0', 343),\n ('Biscuit_1', 347),\n ('Biscuit_1', 355),\n ('Biscuit_2', 363),\n ('Biscuit_0', 365),\n ('Biscuit_0', 369),\n ('Biscuit_1', 374),\n ('Biscuit_1', 383),\n ('Biscuit_1', 392),\n ('Biscuit_0', 400),\n ('Biscuit_1', 404),\n ('Biscuit_3', 412),\n ('Biscuit_3', 417),\n ('Biscuit_0', 422),\n ('Biscuit_0', 426),\n ('Biscuit_0', 430),\n ('Biscuit_1', 434),\n ('Biscuit_0', 442),\n ('Biscuit_3', 447),\n ('Biscuit_3', 452),\n ('Biscuit_1', 457),\n ('Biscuit_1', 465),\n ('Biscuit_3', 473),\n ('Biscuit_1', 479),\n ('Biscuit_3', 487),\n ('Biscuit_0', 492),\n ('Biscuit_0', 496)]"
     },
     "execution_count": 45,
     "metadata": {},
     "output_type": "execute_result"
    }
   ],
   "source": [
    "import random\n",
    "from deap import creator, base, tools, algorithms\n",
    "\n",
    "# Define the individual and fitness function\n",
    "creator.create(\"FitnessMax\", base.Fitness, weights=(1.0,))\n",
    "creator.create(\"Individual\", list, fitness=creator.FitnessMax)\n",
    "\n",
    "# Initialize necessary components for the genetic algorithm\n",
    "toolbox = base.Toolbox()\n",
    "toolbox.register(\"attr_int\", random.randint, 0, len(biscuits) - 1)\n",
    "toolbox.register(\"individual\", tools.initRepeat, creator.Individual, toolbox.attr_int, dough_length)\n",
    "toolbox.register(\"population\", tools.initRepeat, list, toolbox.individual)\n",
    "\n",
    "\n",
    "def evaluate(individual):\n",
    "    \"\"\"\n",
    "    Fitness function to evaluate each individual\n",
    "    :param individual: \n",
    "    :return: fitness value\n",
    "    \"\"\"\n",
    "    total_value = 0\n",
    "    position = 0\n",
    "    while position < dough_length:\n",
    "        biscuit_idx = individual[position]\n",
    "        biscuit_name = f'Biscuit_{biscuit_idx}'\n",
    "        biscuit = biscuits[biscuit_name]\n",
    "        if can_place_biscuit(biscuit, position, defects_data):\n",
    "            total_value += biscuit['value']\n",
    "            position += biscuit['length']\n",
    "        else:\n",
    "            position += 1\n",
    "    return total_value,\n",
    "\n",
    "# Genetic operators\n",
    "toolbox.register(\"mate\", tools.cxTwoPoint)\n",
    "toolbox.register(\"mutate\", tools.mutUniformInt, low=0, up=len(biscuits) - 1, indpb=0.1)\n",
    "toolbox.register(\"select\", tools.selTournament, tournsize=3)\n",
    "toolbox.register(\"evaluate\", evaluate)\n",
    "\n",
    "# Create initial population\n",
    "population = toolbox.population(n=100)\n",
    "\n",
    "# Run the genetic algorithm\n",
    "ngen = 100  # Number of generations\n",
    "result = algorithms.eaSimple(population, toolbox, cxpb=0.5, mutpb=0.2, ngen=ngen, verbose=False)\n",
    "\n",
    "# Best solution\n",
    "best_individual = tools.selBest(population, 1)[0]\n",
    "best_fitness = evaluate(best_individual)[0]\n",
    "\n",
    "# Get best individual's biscuit placement\n",
    "biscuit_placement = []\n",
    "position = 0\n",
    "while position < dough_length:\n",
    "    biscuit_idx = best_individual[position]\n",
    "    biscuit_name = f'Biscuit_{biscuit_idx}'\n",
    "    biscuit = biscuits[biscuit_name]\n",
    "    if can_place_biscuit(biscuit, position, defects_data):\n",
    "        biscuit_placement.append((biscuit_name, position))\n",
    "        position += biscuit['length']\n",
    "    else:\n",
    "        position += 1\n",
    "        \n",
    "print(f\"Total value of biscuits placed: {best_fitness}\")\n",
    "print(f\"Is the solution valid? {is_valid_solution(biscuit_placement, biscuits, dough_length, defects_data)}\")\n",
    "biscuit_placement"
   ],
   "metadata": {
    "collapsed": false,
    "ExecuteTime": {
     "end_time": "2023-12-27T20:04:02.454876Z",
     "start_time": "2023-12-27T20:00:52.944615Z"
    }
   },
   "execution_count": 45
  },
  {
   "cell_type": "markdown",
   "source": [
    "## Dynamic Programming"
   ],
   "metadata": {
    "collapsed": false
   }
  },
  {
   "cell_type": "code",
   "outputs": [
    {
     "name": "stdout",
     "output_type": "stream",
     "text": [
      "Total value of biscuits placed: 760.0\n",
      "Is the solution valid? True\n"
     ]
    },
    {
     "data": {
      "text/plain": "[('Biscuit_1', 0),\n ('Biscuit_1', 8),\n ('Biscuit_0', 16),\n ('Biscuit_1', 20),\n ('Biscuit_1', 28),\n ('Biscuit_0', 36),\n ('Biscuit_0', 41),\n ('Biscuit_3', 45),\n ('Biscuit_0', 50),\n ('Biscuit_0', 54),\n ('Biscuit_3', 58),\n ('Biscuit_3', 63),\n ('Biscuit_3', 68),\n ('Biscuit_1', 73),\n ('Biscuit_1', 81),\n ('Biscuit_1', 89),\n ('Biscuit_0', 99),\n ('Biscuit_3', 103),\n ('Biscuit_3', 108),\n ('Biscuit_0', 114),\n ('Biscuit_0', 118),\n ('Biscuit_0', 122),\n ('Biscuit_3', 126),\n ('Biscuit_3', 131),\n ('Biscuit_0', 136),\n ('Biscuit_0', 140),\n ('Biscuit_3', 144),\n ('Biscuit_1', 149),\n ('Biscuit_1', 158),\n ('Biscuit_3', 167),\n ('Biscuit_0', 172),\n ('Biscuit_1', 176),\n ('Biscuit_0', 186),\n ('Biscuit_3', 190),\n ('Biscuit_3', 195),\n ('Biscuit_3', 200),\n ('Biscuit_3', 205),\n ('Biscuit_3', 210),\n ('Biscuit_0', 215),\n ('Biscuit_3', 219),\n ('Biscuit_3', 224),\n ('Biscuit_1', 229),\n ('Biscuit_3', 237),\n ('Biscuit_1', 242),\n ('Biscuit_3', 250),\n ('Biscuit_3', 255),\n ('Biscuit_3', 260),\n ('Biscuit_3', 265),\n ('Biscuit_3', 270),\n ('Biscuit_0', 275),\n ('Biscuit_0', 279),\n ('Biscuit_3', 283),\n ('Biscuit_3', 288),\n ('Biscuit_1', 293),\n ('Biscuit_1', 301),\n ('Biscuit_3', 309),\n ('Biscuit_0', 314),\n ('Biscuit_3', 318),\n ('Biscuit_3', 323),\n ('Biscuit_1', 328),\n ('Biscuit_3', 336),\n ('Biscuit_1', 341),\n ('Biscuit_3', 349),\n ('Biscuit_1', 354),\n ('Biscuit_0', 362),\n ('Biscuit_0', 366),\n ('Biscuit_0', 370),\n ('Biscuit_0', 374),\n ('Biscuit_3', 378),\n ('Biscuit_3', 383),\n ('Biscuit_0', 388),\n ('Biscuit_3', 392),\n ('Biscuit_3', 397),\n ('Biscuit_3', 402),\n ('Biscuit_3', 407),\n ('Biscuit_3', 412),\n ('Biscuit_3', 417),\n ('Biscuit_3', 422),\n ('Biscuit_0', 427),\n ('Biscuit_0', 431),\n ('Biscuit_0', 435),\n ('Biscuit_3', 439),\n ('Biscuit_1', 444),\n ('Biscuit_3', 452),\n ('Biscuit_3', 457),\n ('Biscuit_3', 462),\n ('Biscuit_3', 467),\n ('Biscuit_1', 472),\n ('Biscuit_0', 480),\n ('Biscuit_1', 484),\n ('Biscuit_1', 492)]"
     },
     "execution_count": 46,
     "metadata": {},
     "output_type": "execute_result"
    }
   ],
   "source": [
    "def optimize_biscuit_placement(biscuits, dough_length, defects):\n",
    "    \"\"\"\n",
    "    Optimize the biscuit placement using dynamic programming\n",
    "    :param biscuits: \n",
    "    :param dough_length: \n",
    "    :param defects: \n",
    "    :return: biscuit_placement, total_value\n",
    "    \"\"\"\n",
    "    max_values = np.zeros(dough_length + 1)\n",
    "    placement_tracker = [None] * (dough_length + 1)  # Track biscuit placements\n",
    "\n",
    "    for position in range(dough_length):\n",
    "        max_values[position + 1] = max(max_values[position + 1], max_values[position])\n",
    "\n",
    "        for biscuit_name, biscuit in biscuits.items():\n",
    "            if can_place_biscuit(biscuit, position, defects):\n",
    "                end_position = position + biscuit['length']\n",
    "                if end_position <= dough_length:\n",
    "                    new_value = max_values[position] + biscuit['value']\n",
    "                    if new_value > max_values[end_position]:\n",
    "                        max_values[end_position] = new_value\n",
    "                        placement_tracker[end_position] = (biscuit_name, position, biscuit['value'])\n",
    "\n",
    "    # Reconstruct the placement of biscuits\n",
    "    biscuit_placement = []\n",
    "    current_position = dough_length\n",
    "    while current_position > 0:\n",
    "        placement = placement_tracker[current_position]\n",
    "        if placement:\n",
    "            biscuit_name, position, value = placement\n",
    "            biscuit_placement.append((biscuit_name, position))\n",
    "            current_position = position\n",
    "        else:\n",
    "            current_position -= 1\n",
    "\n",
    "    return list(reversed(biscuit_placement)), max_values[-1]\n",
    "\n",
    "\n",
    "# Optimizing the biscuit placement\n",
    "biscuit_placement_details, total_value = optimize_biscuit_placement(biscuits, dough_length, defects_data)\n",
    "print(f\"Total value of biscuits placed: {total_value}\")\n",
    "print(f\"Is the solution valid? {is_valid_solution(biscuit_placement_details, biscuits, dough_length, defects_data)}\")\n",
    "\n",
    "# Getting detailed placement of biscuits\n",
    "biscuit_placement_details"
   ],
   "metadata": {
    "collapsed": false,
    "ExecuteTime": {
     "end_time": "2023-12-27T20:04:03.063759Z",
     "start_time": "2023-12-27T20:04:02.465256Z"
    }
   },
   "execution_count": 46
  },
  {
   "cell_type": "markdown",
   "source": [
    "## Hill Climbing Local Search"
   ],
   "metadata": {
    "collapsed": false
   }
  },
  {
   "cell_type": "code",
   "outputs": [
    {
     "data": {
      "text/plain": "([1,\n  1,\n  3,\n  0,\n  2,\n  3,\n  3,\n  2,\n  1,\n  1,\n  2,\n  1,\n  0,\n  1,\n  0,\n  2,\n  1,\n  0,\n  3,\n  0,\n  0,\n  0,\n  2,\n  3,\n  1,\n  0,\n  2,\n  2,\n  3,\n  2,\n  0,\n  0,\n  3,\n  0,\n  2,\n  1,\n  3,\n  2,\n  1,\n  2,\n  1,\n  1,\n  0,\n  0,\n  0,\n  1,\n  0,\n  3,\n  3,\n  1,\n  0,\n  0,\n  2,\n  3,\n  1,\n  2,\n  1,\n  0,\n  3,\n  1,\n  0,\n  2,\n  3,\n  2,\n  3,\n  3,\n  0,\n  2,\n  0,\n  0,\n  2,\n  2,\n  1,\n  2,\n  0,\n  1,\n  1,\n  0,\n  0,\n  0,\n  1,\n  1,\n  2,\n  3,\n  3,\n  0,\n  3,\n  1,\n  0,\n  1,\n  2,\n  3,\n  3,\n  3,\n  1],\n 485)"
     },
     "execution_count": 49,
     "metadata": {},
     "output_type": "execute_result"
    }
   ],
   "source": [
    "def generate_initial_solution():\n",
    "    \"\"\"\n",
    "    Generate an initial solution\n",
    "    :return: \n",
    "    \"\"\"\n",
    "    solution = []\n",
    "    position = 0\n",
    "    while position < dough_length:\n",
    "        biscuit_idx = random.randint(0, len(biscuits) - 1)\n",
    "        biscuit_name = f'Biscuit_{biscuit_idx}'\n",
    "        biscuit = biscuits[biscuit_name]\n",
    "        if can_place_biscuit(biscuit, position, defects_data):\n",
    "            solution.append(biscuit_idx)\n",
    "            position += biscuit['length']\n",
    "        else:\n",
    "            position += 1\n",
    "    return solution\n",
    "\n",
    "def evaluate(solution):\n",
    "    \"\"\"\n",
    "    Evaluate a solution\n",
    "    :param solution: \n",
    "    :return: \n",
    "    \"\"\"\n",
    "    total_value = 0\n",
    "    position = 0\n",
    "    for biscuit_idx in solution:\n",
    "        biscuit_name = f'Biscuit_{biscuit_idx}'\n",
    "        biscuit = biscuits[biscuit_name]\n",
    "        if can_place_biscuit(biscuit, position, defects_data):\n",
    "            total_value += biscuit['value']\n",
    "            position += biscuit['length']\n",
    "        else:\n",
    "            position += 1\n",
    "    return total_value\n",
    "\n",
    "def generate_neighbor(solution):\n",
    "    \"\"\"\n",
    "    Generate a neighbor solution\n",
    "    :param solution: \n",
    "    :return: \n",
    "    \"\"\"\n",
    "    neighbor = solution[:]\n",
    "    change_idx = random.randint(0, len(neighbor) - 1)\n",
    "    neighbor[change_idx] = random.randint(0, len(biscuits) - 1)\n",
    "    return neighbor\n",
    "\n",
    "def hill_climbing(initial_solution):\n",
    "    \"\"\"\n",
    "    Hill climbing algorithm\n",
    "    :param initial_solution: \n",
    "    :return: \n",
    "    \"\"\"\n",
    "    current_solution = initial_solution\n",
    "    current_value = evaluate(current_solution)\n",
    "    no_improvement_count = 0\n",
    "\n",
    "    while no_improvement_count < 100:  # Allow some iterations to find improvement\n",
    "        neighbor = generate_neighbor(current_solution)\n",
    "        neighbor_value = evaluate(neighbor)\n",
    "\n",
    "        if neighbor_value > current_value:\n",
    "            current_solution = neighbor\n",
    "            current_value = neighbor_value\n",
    "            no_improvement_count = 0\n",
    "        else:\n",
    "            no_improvement_count += 1\n",
    "\n",
    "    return current_solution, current_value\n",
    "\n",
    "# Test the local search algorithm\n",
    "initial_solution = generate_initial_solution()\n",
    "best_solution, best_value = hill_climbing(initial_solution)\n",
    "best_solution, best_value"
   ],
   "metadata": {
    "collapsed": false,
    "ExecuteTime": {
     "end_time": "2023-12-27T20:07:41.507120Z",
     "start_time": "2023-12-27T20:07:33.436865Z"
    }
   },
   "execution_count": 49
  }
 ],
 "metadata": {
  "kernelspec": {
   "display_name": "venv311",
   "language": "python",
   "name": "python3"
  },
  "language_info": {
   "codemirror_mode": {
    "name": "ipython",
    "version": 3
   },
   "file_extension": ".py",
   "mimetype": "text/x-python",
   "name": "python",
   "nbconvert_exporter": "python",
   "pygments_lexer": "ipython3",
   "version": "3.11.3"
  }
 },
 "nbformat": 4,
 "nbformat_minor": 2
}
